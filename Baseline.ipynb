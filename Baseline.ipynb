{
 "cells": [
  {
   "cell_type": "code",
   "execution_count": 1,
   "id": "cecde69b",
   "metadata": {},
   "outputs": [],
   "source": [
    "%config Completer.use_jedi = False"
   ]
  },
  {
   "cell_type": "code",
   "execution_count": 80,
   "id": "925f624d",
   "metadata": {},
   "outputs": [],
   "source": [
    "import pandas as pd\n",
    "import numpy as np\n",
    "from sklearn.pipeline import Pipeline\n",
    "from category_encoders.target_encoder import TargetEncoder\n",
    "from catboost import CatBoostRegressor\n",
    "from sklearn.linear_model import Lasso\n",
    "from sklearn.model_selection import train_test_split\n",
    "from sklearn.metrics import mean_squared_error\n",
    "import random\n",
    "random.seed(0)\n",
    "\n",
    "from sklearn.impute import SimpleImputer\n",
    "import shap\n",
    "import matplotlib.pyplot as plt\n",
    "%matplotlib inline\n",
    "from matplotlib import rcParams\n",
    "\n",
    "plt.style.use(\"seaborn-whitegrid\")\n",
    "rcParams[\"axes.labelsize\"] = 14\n",
    "rcParams[\"xtick.labelsize\"] = 12\n",
    "rcParams[\"ytick.labelsize\"] = 12\n",
    "rcParams[\"figure.figsize\"] = 16, 8\n",
    "import seaborn as sns\n",
    "from scipy.stats import kstest"
   ]
  },
  {
   "cell_type": "raw",
   "id": "676bbedd",
   "metadata": {},
   "source": [
    "from pandas_profiling import ProfileReport\n",
    "profile = ProfileReport(data, title=\"Pandas Profiling Report\")\n",
    "profile.to_notebook_iframe()"
   ]
  },
  {
   "cell_type": "code",
   "execution_count": 81,
   "id": "1f710ce2",
   "metadata": {},
   "outputs": [],
   "source": [
    "def explain(pipe,X):\n",
    "\n",
    "    explainer = shap.Explainer(pipe.named_steps['model'])\n",
    "    xx = pd.DataFrame(pipe[:-1].transform(X),columns=X.columns)\n",
    "    shap_values = explainer(xx)\n",
    "\n",
    "    shap.plots.bar(shap_values)\n",
    "    shap.plots.beeswarm(shap_values)"
   ]
  },
  {
   "cell_type": "code",
   "execution_count": 110,
   "id": "f51e3d00",
   "metadata": {},
   "outputs": [],
   "source": [
    "data = pd.read_csv('data/train.csv')\n",
    "test = pd.read_csv('data/test.csv')\n",
    "subm = pd.read_csv('data/sample_submission.csv')"
   ]
  },
  {
   "cell_type": "code",
   "execution_count": 111,
   "id": "2a8db342",
   "metadata": {},
   "outputs": [],
   "source": [
    "data['train']=1\n",
    "test['train']=0"
   ]
  },
  {
   "cell_type": "code",
   "execution_count": 112,
   "id": "8bf21c43",
   "metadata": {},
   "outputs": [],
   "source": [
    "df = data.append(test)"
   ]
  },
  {
   "cell_type": "code",
   "execution_count": 85,
   "id": "5ccf1115",
   "metadata": {},
   "outputs": [],
   "source": [
    "df = df.drop(columns='id')"
   ]
  },
  {
   "cell_type": "code",
   "execution_count": 86,
   "id": "86090c42",
   "metadata": {},
   "outputs": [],
   "source": [
    "df = pd.get_dummies(df,columns=['obs_day'])"
   ]
  },
  {
   "cell_type": "code",
   "execution_count": 87,
   "id": "59c39d1c",
   "metadata": {},
   "outputs": [],
   "source": [
    "# Not working\n",
    "df['vaps_pres_temp'] = df['vap_pressure']/df['vap_temp']\n",
    "#data['hour_sin'] = np.sin(2 * np.pi * data['obs_hour']/23.0)\n",
    "#data['hour_cos'] = np.cos(2 * np.pi * data['obs_hour']/23.0)\n",
    "df['vol'] = df['vap_temp']/df['vap_pressure']\n",
    "df['vol_div'] = df['vap_temp']/df['vap_pressure_div']\n",
    "\n",
    "# Inverse\n",
    "df[\"vap_temp_inv\"] = df[\"vap_temp\"] ** -1\n",
    "df[\"vap_pressure\"] = df[\"vap_pressure\"] ** -1\n",
    "df[\"vap_enth\"] = df[\"vap_enth\"] ** -1\n",
    "df[\"vap_pressure_div\"] = df[\"vap_pressure_div\"] ** -1\n",
    "df[\"vap_motion\"] = df[\"vap_motion\"] ** -1\n",
    "df['faucet_hole'] = df['faucet_hole']**-1"
   ]
  },
  {
   "cell_type": "code",
   "execution_count": 113,
   "id": "8e3159c1",
   "metadata": {},
   "outputs": [
    {
     "data": {
      "text/html": [
       "<div>\n",
       "<style scoped>\n",
       "    .dataframe tbody tr th:only-of-type {\n",
       "        vertical-align: middle;\n",
       "    }\n",
       "\n",
       "    .dataframe tbody tr th {\n",
       "        vertical-align: top;\n",
       "    }\n",
       "\n",
       "    .dataframe thead th {\n",
       "        text-align: right;\n",
       "    }\n",
       "</style>\n",
       "<table border=\"1\" class=\"dataframe\">\n",
       "  <thead>\n",
       "    <tr style=\"text-align: right;\">\n",
       "      <th></th>\n",
       "      <th>id</th>\n",
       "      <th>obs_day</th>\n",
       "      <th>obs_hour</th>\n",
       "      <th>obs_minute</th>\n",
       "      <th>C_motion</th>\n",
       "      <th>fw_motion</th>\n",
       "      <th>faucet_hole</th>\n",
       "      <th>vap_pressure</th>\n",
       "      <th>vap_enth</th>\n",
       "      <th>vap_pressure_div</th>\n",
       "      <th>vap_motion</th>\n",
       "      <th>fw_enth</th>\n",
       "      <th>vap_temp</th>\n",
       "      <th>output_gen</th>\n",
       "      <th>train</th>\n",
       "    </tr>\n",
       "  </thead>\n",
       "  <tbody>\n",
       "    <tr>\n",
       "      <th>0</th>\n",
       "      <td>a563699ca2a601c6ac64aa29986a00a90fb42b48741695...</td>\n",
       "      <td>Saturday</td>\n",
       "      <td>5.0</td>\n",
       "      <td>46.0</td>\n",
       "      <td>361.486145</td>\n",
       "      <td>2542.801078</td>\n",
       "      <td>0.666879</td>\n",
       "      <td>24.138243</td>\n",
       "      <td>2788.168701</td>\n",
       "      <td>25.448248</td>\n",
       "      <td>2543.177002</td>\n",
       "      <td>1270.066040</td>\n",
       "      <td>603.834106</td>\n",
       "      <td>930.271729</td>\n",
       "      <td>1</td>\n",
       "    </tr>\n",
       "    <tr>\n",
       "      <th>1</th>\n",
       "      <td>91ab3eb3bcf6c8c1c5fe2da9ba671aa5a48c7369d9a50f...</td>\n",
       "      <td>Saturday</td>\n",
       "      <td>18.0</td>\n",
       "      <td>NaN</td>\n",
       "      <td>197.064667</td>\n",
       "      <td>1454.458144</td>\n",
       "      <td>NaN</td>\n",
       "      <td>12.702796</td>\n",
       "      <td>NaN</td>\n",
       "      <td>13.405114</td>\n",
       "      <td>1454.421021</td>\n",
       "      <td>1095.314453</td>\n",
       "      <td>500.178772</td>\n",
       "      <td>473.562103</td>\n",
       "      <td>1</td>\n",
       "    </tr>\n",
       "    <tr>\n",
       "      <th>2</th>\n",
       "      <td>7128c51c554735d6c81862684ad6005ae12d2edbcd4644...</td>\n",
       "      <td>Saturday</td>\n",
       "      <td>3.0</td>\n",
       "      <td>51.0</td>\n",
       "      <td>356.869232</td>\n",
       "      <td>2458.671690</td>\n",
       "      <td>0.678685</td>\n",
       "      <td>NaN</td>\n",
       "      <td>2784.910889</td>\n",
       "      <td>NaN</td>\n",
       "      <td>2456.578369</td>\n",
       "      <td>1262.656982</td>\n",
       "      <td>603.529663</td>\n",
       "      <td>904.269897</td>\n",
       "      <td>1</td>\n",
       "    </tr>\n",
       "    <tr>\n",
       "      <th>3</th>\n",
       "      <td>c8144b52e4f63014de0a0d8e1c629bf0b05cb2696cfc23...</td>\n",
       "      <td>Saturday</td>\n",
       "      <td>13.0</td>\n",
       "      <td>NaN</td>\n",
       "      <td>239.267517</td>\n",
       "      <td>1628.127295</td>\n",
       "      <td>0.679137</td>\n",
       "      <td>15.378051</td>\n",
       "      <td>2881.876709</td>\n",
       "      <td>16.252741</td>\n",
       "      <td>1626.861328</td>\n",
       "      <td>1148.203857</td>\n",
       "      <td>593.649658</td>\n",
       "      <td>597.799194</td>\n",
       "      <td>1</td>\n",
       "    </tr>\n",
       "    <tr>\n",
       "      <th>4</th>\n",
       "      <td>88d15a5b2df6692f23d105ff1ae82ae026be00c9271eef...</td>\n",
       "      <td>Friday</td>\n",
       "      <td>11.0</td>\n",
       "      <td>13.0</td>\n",
       "      <td>NaN</td>\n",
       "      <td>2621.829401</td>\n",
       "      <td>0.676403</td>\n",
       "      <td>24.517698</td>\n",
       "      <td>2787.063232</td>\n",
       "      <td>NaN</td>\n",
       "      <td>2621.653564</td>\n",
       "      <td>1280.567383</td>\n",
       "      <td>602.601501</td>\n",
       "      <td>950.284973</td>\n",
       "      <td>1</td>\n",
       "    </tr>\n",
       "    <tr>\n",
       "      <th>...</th>\n",
       "      <td>...</td>\n",
       "      <td>...</td>\n",
       "      <td>...</td>\n",
       "      <td>...</td>\n",
       "      <td>...</td>\n",
       "      <td>...</td>\n",
       "      <td>...</td>\n",
       "      <td>...</td>\n",
       "      <td>...</td>\n",
       "      <td>...</td>\n",
       "      <td>...</td>\n",
       "      <td>...</td>\n",
       "      <td>...</td>\n",
       "      <td>...</td>\n",
       "      <td>...</td>\n",
       "    </tr>\n",
       "    <tr>\n",
       "      <th>47995</th>\n",
       "      <td>ce52e6031c966ea3c88495428b0f27e772dacafdabe52e...</td>\n",
       "      <td>Saturday</td>\n",
       "      <td>11.0</td>\n",
       "      <td>25.0</td>\n",
       "      <td>236.904633</td>\n",
       "      <td>1741.410339</td>\n",
       "      <td>0.644819</td>\n",
       "      <td>17.264051</td>\n",
       "      <td>2928.930176</td>\n",
       "      <td>18.141627</td>\n",
       "      <td>1740.611816</td>\n",
       "      <td>1171.553711</td>\n",
       "      <td>598.504211</td>\n",
       "      <td>NaN</td>\n",
       "      <td>0</td>\n",
       "    </tr>\n",
       "    <tr>\n",
       "      <th>47996</th>\n",
       "      <td>5e4245cb0d071b5743f1224cbc8630b4946bcaab2f7072...</td>\n",
       "      <td>Saturday</td>\n",
       "      <td>13.0</td>\n",
       "      <td>NaN</td>\n",
       "      <td>233.311859</td>\n",
       "      <td>1639.089412</td>\n",
       "      <td>0.667020</td>\n",
       "      <td>15.753609</td>\n",
       "      <td>2885.263672</td>\n",
       "      <td>16.609934</td>\n",
       "      <td>1642.157104</td>\n",
       "      <td>1150.022949</td>\n",
       "      <td>588.658203</td>\n",
       "      <td>NaN</td>\n",
       "      <td>0</td>\n",
       "    </tr>\n",
       "    <tr>\n",
       "      <th>47997</th>\n",
       "      <td>1a04eacd2ed49266f5ee3893be37857db26245ea32a2c8...</td>\n",
       "      <td>Friday</td>\n",
       "      <td>10.0</td>\n",
       "      <td>17.0</td>\n",
       "      <td>364.628662</td>\n",
       "      <td>2596.038249</td>\n",
       "      <td>0.660052</td>\n",
       "      <td>24.933361</td>\n",
       "      <td>2787.292969</td>\n",
       "      <td>26.259435</td>\n",
       "      <td>2598.148926</td>\n",
       "      <td>1280.458618</td>\n",
       "      <td>602.522888</td>\n",
       "      <td>NaN</td>\n",
       "      <td>0</td>\n",
       "    </tr>\n",
       "    <tr>\n",
       "      <th>47998</th>\n",
       "      <td>d628a3e6f0eee1d1f4d4e80d3ddc2509cad26a70a06d29...</td>\n",
       "      <td>Friday</td>\n",
       "      <td>11.0</td>\n",
       "      <td>12.0</td>\n",
       "      <td>370.186768</td>\n",
       "      <td>2623.624449</td>\n",
       "      <td>NaN</td>\n",
       "      <td>24.584421</td>\n",
       "      <td>2786.311768</td>\n",
       "      <td>NaN</td>\n",
       "      <td>2620.279785</td>\n",
       "      <td>1280.452148</td>\n",
       "      <td>602.867676</td>\n",
       "      <td>NaN</td>\n",
       "      <td>0</td>\n",
       "    </tr>\n",
       "    <tr>\n",
       "      <th>47999</th>\n",
       "      <td>8b96bd342e60312f4fb4e04aa322d7d92aac32dbf245da...</td>\n",
       "      <td>Saturday</td>\n",
       "      <td>6.0</td>\n",
       "      <td>5.0</td>\n",
       "      <td>1478.599120</td>\n",
       "      <td>2532.538680</td>\n",
       "      <td>0.666023</td>\n",
       "      <td>96.777544</td>\n",
       "      <td>2757.762939</td>\n",
       "      <td>101.964328</td>\n",
       "      <td>10116.781252</td>\n",
       "      <td>5095.750000</td>\n",
       "      <td>600.933838</td>\n",
       "      <td>NaN</td>\n",
       "      <td>0</td>\n",
       "    </tr>\n",
       "  </tbody>\n",
       "</table>\n",
       "<p>120000 rows × 15 columns</p>\n",
       "</div>"
      ],
      "text/plain": [
       "                                                      id   obs_day  obs_hour  \\\n",
       "0      a563699ca2a601c6ac64aa29986a00a90fb42b48741695...  Saturday       5.0   \n",
       "1      91ab3eb3bcf6c8c1c5fe2da9ba671aa5a48c7369d9a50f...  Saturday      18.0   \n",
       "2      7128c51c554735d6c81862684ad6005ae12d2edbcd4644...  Saturday       3.0   \n",
       "3      c8144b52e4f63014de0a0d8e1c629bf0b05cb2696cfc23...  Saturday      13.0   \n",
       "4      88d15a5b2df6692f23d105ff1ae82ae026be00c9271eef...    Friday      11.0   \n",
       "...                                                  ...       ...       ...   \n",
       "47995  ce52e6031c966ea3c88495428b0f27e772dacafdabe52e...  Saturday      11.0   \n",
       "47996  5e4245cb0d071b5743f1224cbc8630b4946bcaab2f7072...  Saturday      13.0   \n",
       "47997  1a04eacd2ed49266f5ee3893be37857db26245ea32a2c8...    Friday      10.0   \n",
       "47998  d628a3e6f0eee1d1f4d4e80d3ddc2509cad26a70a06d29...    Friday      11.0   \n",
       "47999  8b96bd342e60312f4fb4e04aa322d7d92aac32dbf245da...  Saturday       6.0   \n",
       "\n",
       "       obs_minute     C_motion    fw_motion  faucet_hole  vap_pressure  \\\n",
       "0            46.0   361.486145  2542.801078     0.666879     24.138243   \n",
       "1             NaN   197.064667  1454.458144          NaN     12.702796   \n",
       "2            51.0   356.869232  2458.671690     0.678685           NaN   \n",
       "3             NaN   239.267517  1628.127295     0.679137     15.378051   \n",
       "4            13.0          NaN  2621.829401     0.676403     24.517698   \n",
       "...           ...          ...          ...          ...           ...   \n",
       "47995        25.0   236.904633  1741.410339     0.644819     17.264051   \n",
       "47996         NaN   233.311859  1639.089412     0.667020     15.753609   \n",
       "47997        17.0   364.628662  2596.038249     0.660052     24.933361   \n",
       "47998        12.0   370.186768  2623.624449          NaN     24.584421   \n",
       "47999         5.0  1478.599120  2532.538680     0.666023     96.777544   \n",
       "\n",
       "          vap_enth  vap_pressure_div    vap_motion      fw_enth    vap_temp  \\\n",
       "0      2788.168701         25.448248   2543.177002  1270.066040  603.834106   \n",
       "1              NaN         13.405114   1454.421021  1095.314453  500.178772   \n",
       "2      2784.910889               NaN   2456.578369  1262.656982  603.529663   \n",
       "3      2881.876709         16.252741   1626.861328  1148.203857  593.649658   \n",
       "4      2787.063232               NaN   2621.653564  1280.567383  602.601501   \n",
       "...            ...               ...           ...          ...         ...   \n",
       "47995  2928.930176         18.141627   1740.611816  1171.553711  598.504211   \n",
       "47996  2885.263672         16.609934   1642.157104  1150.022949  588.658203   \n",
       "47997  2787.292969         26.259435   2598.148926  1280.458618  602.522888   \n",
       "47998  2786.311768               NaN   2620.279785  1280.452148  602.867676   \n",
       "47999  2757.762939        101.964328  10116.781252  5095.750000  600.933838   \n",
       "\n",
       "       output_gen  train  \n",
       "0      930.271729      1  \n",
       "1      473.562103      1  \n",
       "2      904.269897      1  \n",
       "3      597.799194      1  \n",
       "4      950.284973      1  \n",
       "...           ...    ...  \n",
       "47995         NaN      0  \n",
       "47996         NaN      0  \n",
       "47997         NaN      0  \n",
       "47998         NaN      0  \n",
       "47999         NaN      0  \n",
       "\n",
       "[120000 rows x 15 columns]"
      ]
     },
     "execution_count": 113,
     "metadata": {},
     "output_type": "execute_result"
    }
   ],
   "source": [
    "df"
   ]
  },
  {
   "cell_type": "code",
   "execution_count": 96,
   "id": "29972bb2",
   "metadata": {},
   "outputs": [],
   "source": [
    "# Might work\n",
    "df['vol_pres'] = df['vap_pressure']/df['vap_enth']\n",
    "df['vol_pres_div'] = df['vap_pressure_div']/df['vap_enth']\n",
    "\n",
    "df['motion_times_vap'] = df['fw_motion'] * df['vap_pressure_div']\n",
    "df['motion_by_vap'] = df['fw_motion'] / df['vap_pressure_div']\n",
    "df['motion_by_vap_inv'] = (df['fw_motion'] / df['vap_pressure_div'])**-1\n",
    "\n",
    "df['vap_dif'] = df['vap_pressure'] - df['vap_pressure_div']"
   ]
  },
  {
   "cell_type": "code",
   "execution_count": null,
   "id": "041292a3",
   "metadata": {},
   "outputs": [],
   "source": []
  },
  {
   "cell_type": "markdown",
   "id": "a4e6eea4",
   "metadata": {},
   "source": [
    "# Machine Learning"
   ]
  },
  {
   "cell_type": "code",
   "execution_count": 97,
   "id": "bd02707e",
   "metadata": {},
   "outputs": [],
   "source": [
    "data = df[df['train']==1]\n",
    "test = df[df['train']==0]"
   ]
  },
  {
   "cell_type": "code",
   "execution_count": null,
   "id": "cb1a3c73",
   "metadata": {},
   "outputs": [],
   "source": []
  },
  {
   "cell_type": "code",
   "execution_count": 98,
   "id": "8e6326b0",
   "metadata": {},
   "outputs": [],
   "source": [
    "X_tr, X_te, y_tr, y_te = train_test_split(\n",
    "    data.drop(columns=[\"train\", \"output_gen\"]), data[\"output_gen\"],random_state=0\n",
    ")"
   ]
  },
  {
   "cell_type": "code",
   "execution_count": 99,
   "id": "1de5ca8f",
   "metadata": {},
   "outputs": [
    {
     "data": {
      "text/plain": [
       "37.619388400754495"
      ]
     },
     "execution_count": 99,
     "metadata": {},
     "output_type": "execute_result"
    }
   ],
   "source": [
    "imp = SimpleImputer(strategy='mean')\n",
    "#model = CatBoostRegressor(verbose=0,iterations=200)\n",
    "model = Lasso()\n",
    "pipe = Pipeline([('imputer',imp),('model',model)])\n",
    "\n",
    "pipe.fit(X_tr,y_tr)\n",
    "\n",
    "mean_squared_error(pipe.predict(X_te),y_te,squared=False)"
   ]
  },
  {
   "cell_type": "code",
   "execution_count": 100,
   "id": "00467498",
   "metadata": {},
   "outputs": [
    {
     "data": {
      "text/plain": [
       "4.637131787507624"
      ]
     },
     "execution_count": 100,
     "metadata": {},
     "output_type": "execute_result"
    }
   ],
   "source": [
    "imp = SimpleImputer()\n",
    "model = CatBoostRegressor(verbose=0,iterations=200)\n",
    "\n",
    "pipe = Pipeline([('imputer',imp),('model',model)])\n",
    "\n",
    "pipe.fit(X_tr,y_tr)\n",
    "\n",
    "mean_squared_error(pipe.predict(X_te),y_te,squared=False)"
   ]
  },
  {
   "cell_type": "code",
   "execution_count": 101,
   "id": "424cfb64",
   "metadata": {},
   "outputs": [
    {
     "data": {
      "text/html": [
       "<div>\n",
       "<style scoped>\n",
       "    .dataframe tbody tr th:only-of-type {\n",
       "        vertical-align: middle;\n",
       "    }\n",
       "\n",
       "    .dataframe tbody tr th {\n",
       "        vertical-align: top;\n",
       "    }\n",
       "\n",
       "    .dataframe thead th {\n",
       "        text-align: right;\n",
       "    }\n",
       "</style>\n",
       "<table border=\"1\" class=\"dataframe\">\n",
       "  <thead>\n",
       "    <tr style=\"text-align: right;\">\n",
       "      <th></th>\n",
       "      <th>obs_hour</th>\n",
       "      <th>obs_minute</th>\n",
       "      <th>C_motion</th>\n",
       "      <th>fw_motion</th>\n",
       "      <th>faucet_hole</th>\n",
       "      <th>vap_pressure</th>\n",
       "      <th>vap_enth</th>\n",
       "      <th>vap_pressure_div</th>\n",
       "      <th>vap_motion</th>\n",
       "      <th>fw_enth</th>\n",
       "      <th>...</th>\n",
       "      <th>vaps_pres_temp</th>\n",
       "      <th>vol</th>\n",
       "      <th>vol_div</th>\n",
       "      <th>vol_pres</th>\n",
       "      <th>vol_pres_div</th>\n",
       "      <th>motion_times_vap</th>\n",
       "      <th>motion_by_vap</th>\n",
       "      <th>motion_by_vap_inv</th>\n",
       "      <th>vap_dif</th>\n",
       "      <th>vap_temp_inv</th>\n",
       "    </tr>\n",
       "  </thead>\n",
       "  <tbody>\n",
       "    <tr>\n",
       "      <th>count</th>\n",
       "      <td>106911.000000</td>\n",
       "      <td>106900.000000</td>\n",
       "      <td>106768.000000</td>\n",
       "      <td>106775.000000</td>\n",
       "      <td>106791.000000</td>\n",
       "      <td>106723.000000</td>\n",
       "      <td>106831.000000</td>\n",
       "      <td>106881.000000</td>\n",
       "      <td>106729.000000</td>\n",
       "      <td>106820.000000</td>\n",
       "      <td>...</td>\n",
       "      <td>95119.000000</td>\n",
       "      <td>95119.000000</td>\n",
       "      <td>95279.000000</td>\n",
       "      <td>95018.000000</td>\n",
       "      <td>95115.000000</td>\n",
       "      <td>95204.000000</td>\n",
       "      <td>95204.000000</td>\n",
       "      <td>95204.000000</td>\n",
       "      <td>95037.000000</td>\n",
       "      <td>106921.000000</td>\n",
       "    </tr>\n",
       "    <tr>\n",
       "      <th>mean</th>\n",
       "      <td>11.841934</td>\n",
       "      <td>29.383910</td>\n",
       "      <td>328.437893</td>\n",
       "      <td>2287.671366</td>\n",
       "      <td>0.670540</td>\n",
       "      <td>0.048888</td>\n",
       "      <td>0.000358</td>\n",
       "      <td>0.046338</td>\n",
       "      <td>0.000458</td>\n",
       "      <td>1230.790012</td>\n",
       "      <td>...</td>\n",
       "      <td>0.036664</td>\n",
       "      <td>28.531502</td>\n",
       "      <td>27.043513</td>\n",
       "      <td>136.935284</td>\n",
       "      <td>129.797612</td>\n",
       "      <td>100.399082</td>\n",
       "      <td>54718.953749</td>\n",
       "      <td>0.000023</td>\n",
       "      <td>0.002536</td>\n",
       "      <td>0.001697</td>\n",
       "    </tr>\n",
       "    <tr>\n",
       "      <th>std</th>\n",
       "      <td>6.031397</td>\n",
       "      <td>17.273325</td>\n",
       "      <td>83.174802</td>\n",
       "      <td>447.459667</td>\n",
       "      <td>0.011347</td>\n",
       "      <td>0.013925</td>\n",
       "      <td>0.000005</td>\n",
       "      <td>0.013206</td>\n",
       "      <td>0.000121</td>\n",
       "      <td>256.523135</td>\n",
       "      <td>...</td>\n",
       "      <td>0.008553</td>\n",
       "      <td>6.349548</td>\n",
       "      <td>6.018504</td>\n",
       "      <td>40.340877</td>\n",
       "      <td>38.250610</td>\n",
       "      <td>5.436726</td>\n",
       "      <td>20604.924531</td>\n",
       "      <td>0.000014</td>\n",
       "      <td>0.000723</td>\n",
       "      <td>0.000100</td>\n",
       "    </tr>\n",
       "    <tr>\n",
       "      <th>min</th>\n",
       "      <td>0.000000</td>\n",
       "      <td>0.000000</td>\n",
       "      <td>114.607033</td>\n",
       "      <td>1081.392319</td>\n",
       "      <td>0.602171</td>\n",
       "      <td>0.009156</td>\n",
       "      <td>0.000341</td>\n",
       "      <td>0.008687</td>\n",
       "      <td>0.000086</td>\n",
       "      <td>0.000000</td>\n",
       "      <td>...</td>\n",
       "      <td>0.019812</td>\n",
       "      <td>5.574756</td>\n",
       "      <td>5.280993</td>\n",
       "      <td>25.345822</td>\n",
       "      <td>24.023481</td>\n",
       "      <td>23.214308</td>\n",
       "      <td>10568.734780</td>\n",
       "      <td>0.000003</td>\n",
       "      <td>0.000449</td>\n",
       "      <td>0.001643</td>\n",
       "    </tr>\n",
       "    <tr>\n",
       "      <th>25%</th>\n",
       "      <td>7.000000</td>\n",
       "      <td>14.000000</td>\n",
       "      <td>319.348877</td>\n",
       "      <td>2244.559443</td>\n",
       "      <td>0.662273</td>\n",
       "      <td>0.041310</td>\n",
       "      <td>0.000356</td>\n",
       "      <td>0.039181</td>\n",
       "      <td>0.000391</td>\n",
       "      <td>1247.574402</td>\n",
       "      <td>...</td>\n",
       "      <td>0.036927</td>\n",
       "      <td>24.882303</td>\n",
       "      <td>23.583034</td>\n",
       "      <td>114.500925</td>\n",
       "      <td>108.517737</td>\n",
       "      <td>99.246652</td>\n",
       "      <td>55150.067973</td>\n",
       "      <td>0.000015</td>\n",
       "      <td>0.002126</td>\n",
       "      <td>0.001657</td>\n",
       "    </tr>\n",
       "    <tr>\n",
       "      <th>50%</th>\n",
       "      <td>12.000000</td>\n",
       "      <td>29.000000</td>\n",
       "      <td>350.073196</td>\n",
       "      <td>2461.669130</td>\n",
       "      <td>0.675265</td>\n",
       "      <td>0.042914</td>\n",
       "      <td>0.000359</td>\n",
       "      <td>0.040668</td>\n",
       "      <td>0.000406</td>\n",
       "      <td>1263.741150</td>\n",
       "      <td>...</td>\n",
       "      <td>0.038652</td>\n",
       "      <td>25.872079</td>\n",
       "      <td>24.518318</td>\n",
       "      <td>119.335273</td>\n",
       "      <td>113.101134</td>\n",
       "      <td>100.570204</td>\n",
       "      <td>60615.096990</td>\n",
       "      <td>0.000016</td>\n",
       "      <td>0.002247</td>\n",
       "      <td>0.001660</td>\n",
       "    </tr>\n",
       "    <tr>\n",
       "      <th>75%</th>\n",
       "      <td>17.000000</td>\n",
       "      <td>44.000000</td>\n",
       "      <td>361.913276</td>\n",
       "      <td>2552.906998</td>\n",
       "      <td>0.678519</td>\n",
       "      <td>0.044976</td>\n",
       "      <td>0.000361</td>\n",
       "      <td>0.042600</td>\n",
       "      <td>0.000430</td>\n",
       "      <td>1274.750061</td>\n",
       "      <td>...</td>\n",
       "      <td>0.040189</td>\n",
       "      <td>27.080463</td>\n",
       "      <td>25.632118</td>\n",
       "      <td>127.409670</td>\n",
       "      <td>120.467753</td>\n",
       "      <td>101.246089</td>\n",
       "      <td>65129.363691</td>\n",
       "      <td>0.000018</td>\n",
       "      <td>0.002400</td>\n",
       "      <td>0.001665</td>\n",
       "    </tr>\n",
       "    <tr>\n",
       "      <th>max</th>\n",
       "      <td>23.000000</td>\n",
       "      <td>59.000000</td>\n",
       "      <td>1698.141480</td>\n",
       "      <td>2932.372995</td>\n",
       "      <td>0.687786</td>\n",
       "      <td>0.107944</td>\n",
       "      <td>0.000371</td>\n",
       "      <td>0.102392</td>\n",
       "      <td>0.000922</td>\n",
       "      <td>5256.435548</td>\n",
       "      <td>...</td>\n",
       "      <td>0.179380</td>\n",
       "      <td>50.474277</td>\n",
       "      <td>47.905448</td>\n",
       "      <td>297.732984</td>\n",
       "      <td>282.415895</td>\n",
       "      <td>112.174442</td>\n",
       "      <td>334381.605102</td>\n",
       "      <td>0.000095</td>\n",
       "      <td>0.005620</td>\n",
       "      <td>0.002142</td>\n",
       "    </tr>\n",
       "  </tbody>\n",
       "</table>\n",
       "<p>8 rows × 25 columns</p>\n",
       "</div>"
      ],
      "text/plain": [
       "            obs_hour     obs_minute       C_motion      fw_motion  \\\n",
       "count  106911.000000  106900.000000  106768.000000  106775.000000   \n",
       "mean       11.841934      29.383910     328.437893    2287.671366   \n",
       "std         6.031397      17.273325      83.174802     447.459667   \n",
       "min         0.000000       0.000000     114.607033    1081.392319   \n",
       "25%         7.000000      14.000000     319.348877    2244.559443   \n",
       "50%        12.000000      29.000000     350.073196    2461.669130   \n",
       "75%        17.000000      44.000000     361.913276    2552.906998   \n",
       "max        23.000000      59.000000    1698.141480    2932.372995   \n",
       "\n",
       "         faucet_hole   vap_pressure       vap_enth  vap_pressure_div  \\\n",
       "count  106791.000000  106723.000000  106831.000000     106881.000000   \n",
       "mean        0.670540       0.048888       0.000358          0.046338   \n",
       "std         0.011347       0.013925       0.000005          0.013206   \n",
       "min         0.602171       0.009156       0.000341          0.008687   \n",
       "25%         0.662273       0.041310       0.000356          0.039181   \n",
       "50%         0.675265       0.042914       0.000359          0.040668   \n",
       "75%         0.678519       0.044976       0.000361          0.042600   \n",
       "max         0.687786       0.107944       0.000371          0.102392   \n",
       "\n",
       "          vap_motion        fw_enth  ...  vaps_pres_temp           vol  \\\n",
       "count  106729.000000  106820.000000  ...    95119.000000  95119.000000   \n",
       "mean        0.000458    1230.790012  ...        0.036664     28.531502   \n",
       "std         0.000121     256.523135  ...        0.008553      6.349548   \n",
       "min         0.000086       0.000000  ...        0.019812      5.574756   \n",
       "25%         0.000391    1247.574402  ...        0.036927     24.882303   \n",
       "50%         0.000406    1263.741150  ...        0.038652     25.872079   \n",
       "75%         0.000430    1274.750061  ...        0.040189     27.080463   \n",
       "max         0.000922    5256.435548  ...        0.179380     50.474277   \n",
       "\n",
       "            vol_div      vol_pres  vol_pres_div  motion_times_vap  \\\n",
       "count  95279.000000  95018.000000  95115.000000      95204.000000   \n",
       "mean      27.043513    136.935284    129.797612        100.399082   \n",
       "std        6.018504     40.340877     38.250610          5.436726   \n",
       "min        5.280993     25.345822     24.023481         23.214308   \n",
       "25%       23.583034    114.500925    108.517737         99.246652   \n",
       "50%       24.518318    119.335273    113.101134        100.570204   \n",
       "75%       25.632118    127.409670    120.467753        101.246089   \n",
       "max       47.905448    297.732984    282.415895        112.174442   \n",
       "\n",
       "       motion_by_vap  motion_by_vap_inv       vap_dif   vap_temp_inv  \n",
       "count   95204.000000       95204.000000  95037.000000  106921.000000  \n",
       "mean    54718.953749           0.000023      0.002536       0.001697  \n",
       "std     20604.924531           0.000014      0.000723       0.000100  \n",
       "min     10568.734780           0.000003      0.000449       0.001643  \n",
       "25%     55150.067973           0.000015      0.002126       0.001657  \n",
       "50%     60615.096990           0.000016      0.002247       0.001660  \n",
       "75%     65129.363691           0.000018      0.002400       0.001665  \n",
       "max    334381.605102           0.000095      0.005620       0.002142  \n",
       "\n",
       "[8 rows x 25 columns]"
      ]
     },
     "execution_count": 101,
     "metadata": {},
     "output_type": "execute_result"
    }
   ],
   "source": [
    "df.describe()"
   ]
  },
  {
   "cell_type": "code",
   "execution_count": 102,
   "id": "72055ea7",
   "metadata": {},
   "outputs": [
    {
     "data": {
      "text/plain": [
       "0        0.041428\n",
       "1        0.078723\n",
       "2             NaN\n",
       "3        0.065028\n",
       "4        0.040787\n",
       "           ...   \n",
       "47995    0.057924\n",
       "47996    0.063478\n",
       "47997    0.040107\n",
       "47998    0.040676\n",
       "47999    0.010333\n",
       "Name: vap_pressure, Length: 120000, dtype: float64"
      ]
     },
     "execution_count": 102,
     "metadata": {},
     "output_type": "execute_result"
    }
   ],
   "source": [
    "\n",
    "df['vap_pressure']"
   ]
  },
  {
   "cell_type": "code",
   "execution_count": 103,
   "id": "14b2a23a",
   "metadata": {
    "scrolled": false
   },
   "outputs": [
    {
     "data": {
      "text/plain": [
       "<AxesSubplot:ylabel='Density'>"
      ]
     },
     "execution_count": 103,
     "metadata": {},
     "output_type": "execute_result"
    },
    {
     "data": {
      "image/png": "[encoded data removed]",
      "text/plain": [
       "<Figure size 1152x576 with 1 Axes>"
      ]
     },
     "metadata": {},
     "output_type": "display_data"
    }
   ],
   "source": [
    "sns.kdeplot(df['vap_dif'].dropna().values)"
   ]
  },
  {
   "cell_type": "code",
   "execution_count": 104,
   "id": "4a0ec295",
   "metadata": {},
   "outputs": [
    {
     "data": {
      "text/plain": [
       "<AxesSubplot:ylabel='Density'>"
      ]
     },
     "execution_count": 104,
     "metadata": {},
     "output_type": "execute_result"
    },
    {
     "data": {
      "image/png": "[encoded data removed]",
      "text/plain": [
       "<Figure size 1152x576 with 1 Axes>"
      ]
     },
     "metadata": {},
     "output_type": "display_data"
    }
   ],
   "source": [
    "sns.kdeplot(df['vap_pressure_div'].dropna().values)"
   ]
  },
  {
   "cell_type": "code",
   "execution_count": 105,
   "id": "7cc26adb",
   "metadata": {},
   "outputs": [
    {
     "ename": "KeyError",
     "evalue": "'vap_'",
     "output_type": "error",
     "traceback": [
      "\u001b[0;31m---------------------------------------------------------------------------\u001b[0m",
      "\u001b[0;31mKeyError\u001b[0m                                  Traceback (most recent call last)",
      "\u001b[0;32m~/opt/anaconda3/envs/kaggle/lib/python3.8/site-packages/pandas/core/indexes/base.py\u001b[0m in \u001b[0;36mget_loc\u001b[0;34m(self, key, method, tolerance)\u001b[0m\n\u001b[1;32m   3360\u001b[0m             \u001b[0;32mtry\u001b[0m\u001b[0;34m:\u001b[0m\u001b[0;34m\u001b[0m\u001b[0;34m\u001b[0m\u001b[0m\n\u001b[0;32m-> 3361\u001b[0;31m                 \u001b[0;32mreturn\u001b[0m \u001b[0mself\u001b[0m\u001b[0;34m.\u001b[0m\u001b[0m_engine\u001b[0m\u001b[0;34m.\u001b[0m\u001b[0mget_loc\u001b[0m\u001b[0;34m(\u001b[0m\u001b[0mcasted_key\u001b[0m\u001b[0;34m)\u001b[0m\u001b[0;34m\u001b[0m\u001b[0;34m\u001b[0m\u001b[0m\n\u001b[0m\u001b[1;32m   3362\u001b[0m             \u001b[0;32mexcept\u001b[0m \u001b[0mKeyError\u001b[0m \u001b[0;32mas\u001b[0m \u001b[0merr\u001b[0m\u001b[0;34m:\u001b[0m\u001b[0;34m\u001b[0m\u001b[0;34m\u001b[0m\u001b[0m\n",
      "\u001b[0;32m~/opt/anaconda3/envs/kaggle/lib/python3.8/site-packages/pandas/_libs/index.pyx\u001b[0m in \u001b[0;36mpandas._libs.index.IndexEngine.get_loc\u001b[0;34m()\u001b[0m\n",
      "\u001b[0;32m~/opt/anaconda3/envs/kaggle/lib/python3.8/site-packages/pandas/_libs/index.pyx\u001b[0m in \u001b[0;36mpandas._libs.index.IndexEngine.get_loc\u001b[0;34m()\u001b[0m\n",
      "\u001b[0;32mpandas/_libs/hashtable_class_helper.pxi\u001b[0m in \u001b[0;36mpandas._libs.hashtable.PyObjectHashTable.get_item\u001b[0;34m()\u001b[0m\n",
      "\u001b[0;32mpandas/_libs/hashtable_class_helper.pxi\u001b[0m in \u001b[0;36mpandas._libs.hashtable.PyObjectHashTable.get_item\u001b[0;34m()\u001b[0m\n",
      "\u001b[0;31mKeyError\u001b[0m: 'vap_'",
      "\nThe above exception was the direct cause of the following exception:\n",
      "\u001b[0;31mKeyError\u001b[0m                                  Traceback (most recent call last)",
      "\u001b[0;32m<ipython-input-105-b7e6394aabef>\u001b[0m in \u001b[0;36m<module>\u001b[0;34m\u001b[0m\n\u001b[0;32m----> 1\u001b[0;31m \u001b[0msns\u001b[0m\u001b[0;34m.\u001b[0m\u001b[0mkdeplot\u001b[0m\u001b[0;34m(\u001b[0m\u001b[0mdf\u001b[0m\u001b[0;34m[\u001b[0m\u001b[0;34m'vap_'\u001b[0m\u001b[0;34m]\u001b[0m\u001b[0;34m.\u001b[0m\u001b[0mdropna\u001b[0m\u001b[0;34m(\u001b[0m\u001b[0;34m)\u001b[0m\u001b[0;34m.\u001b[0m\u001b[0mvalues\u001b[0m\u001b[0;34m)\u001b[0m\u001b[0;34m\u001b[0m\u001b[0;34m\u001b[0m\u001b[0m\n\u001b[0m",
      "\u001b[0;32m~/opt/anaconda3/envs/kaggle/lib/python3.8/site-packages/pandas/core/frame.py\u001b[0m in \u001b[0;36m__getitem__\u001b[0;34m(self, key)\u001b[0m\n\u001b[1;32m   3456\u001b[0m             \u001b[0;32mif\u001b[0m \u001b[0mself\u001b[0m\u001b[0;34m.\u001b[0m\u001b[0mcolumns\u001b[0m\u001b[0;34m.\u001b[0m\u001b[0mnlevels\u001b[0m \u001b[0;34m>\u001b[0m \u001b[0;36m1\u001b[0m\u001b[0;34m:\u001b[0m\u001b[0;34m\u001b[0m\u001b[0;34m\u001b[0m\u001b[0m\n\u001b[1;32m   3457\u001b[0m                 \u001b[0;32mreturn\u001b[0m \u001b[0mself\u001b[0m\u001b[0;34m.\u001b[0m\u001b[0m_getitem_multilevel\u001b[0m\u001b[0;34m(\u001b[0m\u001b[0mkey\u001b[0m\u001b[0;34m)\u001b[0m\u001b[0;34m\u001b[0m\u001b[0;34m\u001b[0m\u001b[0m\n\u001b[0;32m-> 3458\u001b[0;31m             \u001b[0mindexer\u001b[0m \u001b[0;34m=\u001b[0m \u001b[0mself\u001b[0m\u001b[0;34m.\u001b[0m\u001b[0mcolumns\u001b[0m\u001b[0;34m.\u001b[0m\u001b[0mget_loc\u001b[0m\u001b[0;34m(\u001b[0m\u001b[0mkey\u001b[0m\u001b[0;34m)\u001b[0m\u001b[0;34m\u001b[0m\u001b[0;34m\u001b[0m\u001b[0m\n\u001b[0m\u001b[1;32m   3459\u001b[0m             \u001b[0;32mif\u001b[0m \u001b[0mis_integer\u001b[0m\u001b[0;34m(\u001b[0m\u001b[0mindexer\u001b[0m\u001b[0;34m)\u001b[0m\u001b[0;34m:\u001b[0m\u001b[0;34m\u001b[0m\u001b[0;34m\u001b[0m\u001b[0m\n\u001b[1;32m   3460\u001b[0m                 \u001b[0mindexer\u001b[0m \u001b[0;34m=\u001b[0m \u001b[0;34m[\u001b[0m\u001b[0mindexer\u001b[0m\u001b[0;34m]\u001b[0m\u001b[0;34m\u001b[0m\u001b[0;34m\u001b[0m\u001b[0m\n",
      "\u001b[0;32m~/opt/anaconda3/envs/kaggle/lib/python3.8/site-packages/pandas/core/indexes/base.py\u001b[0m in \u001b[0;36mget_loc\u001b[0;34m(self, key, method, tolerance)\u001b[0m\n\u001b[1;32m   3361\u001b[0m                 \u001b[0;32mreturn\u001b[0m \u001b[0mself\u001b[0m\u001b[0;34m.\u001b[0m\u001b[0m_engine\u001b[0m\u001b[0;34m.\u001b[0m\u001b[0mget_loc\u001b[0m\u001b[0;34m(\u001b[0m\u001b[0mcasted_key\u001b[0m\u001b[0;34m)\u001b[0m\u001b[0;34m\u001b[0m\u001b[0;34m\u001b[0m\u001b[0m\n\u001b[1;32m   3362\u001b[0m             \u001b[0;32mexcept\u001b[0m \u001b[0mKeyError\u001b[0m \u001b[0;32mas\u001b[0m \u001b[0merr\u001b[0m\u001b[0;34m:\u001b[0m\u001b[0;34m\u001b[0m\u001b[0;34m\u001b[0m\u001b[0m\n\u001b[0;32m-> 3363\u001b[0;31m                 \u001b[0;32mraise\u001b[0m \u001b[0mKeyError\u001b[0m\u001b[0;34m(\u001b[0m\u001b[0mkey\u001b[0m\u001b[0;34m)\u001b[0m \u001b[0;32mfrom\u001b[0m \u001b[0merr\u001b[0m\u001b[0;34m\u001b[0m\u001b[0;34m\u001b[0m\u001b[0m\n\u001b[0m\u001b[1;32m   3364\u001b[0m \u001b[0;34m\u001b[0m\u001b[0m\n\u001b[1;32m   3365\u001b[0m         \u001b[0;32mif\u001b[0m \u001b[0mis_scalar\u001b[0m\u001b[0;34m(\u001b[0m\u001b[0mkey\u001b[0m\u001b[0;34m)\u001b[0m \u001b[0;32mand\u001b[0m \u001b[0misna\u001b[0m\u001b[0;34m(\u001b[0m\u001b[0mkey\u001b[0m\u001b[0;34m)\u001b[0m \u001b[0;32mand\u001b[0m \u001b[0;32mnot\u001b[0m \u001b[0mself\u001b[0m\u001b[0;34m.\u001b[0m\u001b[0mhasnans\u001b[0m\u001b[0;34m:\u001b[0m\u001b[0;34m\u001b[0m\u001b[0;34m\u001b[0m\u001b[0m\n",
      "\u001b[0;31mKeyError\u001b[0m: 'vap_'"
     ]
    }
   ],
   "source": [
    "sns.kdeplot(df['vap_'].dropna().values)"
   ]
  },
  {
   "cell_type": "code",
   "execution_count": null,
   "id": "3bcc1b56",
   "metadata": {},
   "outputs": [],
   "source": [
    "explain(pipe,X_tr)"
   ]
  },
  {
   "cell_type": "code",
   "execution_count": 106,
   "id": "ae393807",
   "metadata": {
    "scrolled": true
   },
   "outputs": [
    {
     "data": {
      "image/png": "[encoded data removed]",
      "text/plain": [
       "<Figure size 576x468 with 1 Axes>"
      ]
     },
     "metadata": {},
     "output_type": "display_data"
    },
    {
     "data": {
      "image/png": "[encoded data removed]",
      "text/plain": [
       "<Figure size 576x396 with 2 Axes>"
      ]
     },
     "metadata": {},
     "output_type": "display_data"
    }
   ],
   "source": [
    "explain(pipe,X_te)"
   ]
  },
  {
   "cell_type": "markdown",
   "id": "99182e51",
   "metadata": {},
   "source": [
    "## Subm"
   ]
  },
  {
   "cell_type": "code",
   "execution_count": null,
   "id": "a074cc2c",
   "metadata": {},
   "outputs": [],
   "source": []
  },
  {
   "cell_type": "code",
   "execution_count": 107,
   "id": "469c7025",
   "metadata": {},
   "outputs": [],
   "source": [
    "test_subm = test.drop(columns=[\"train\", \"output_gen\"])"
   ]
  },
  {
   "cell_type": "code",
   "execution_count": 108,
   "id": "5fcbb94c",
   "metadata": {
    "scrolled": true
   },
   "outputs": [],
   "source": [
    "tr = pd.DataFrame(pipe[:-1].transform(X_tr),columns=X_tr.columns)\n",
    "te = pd.DataFrame(pipe[:-1].transform(test_subm),columns=test_subm.columns)\n"
   ]
  },
  {
   "cell_type": "code",
   "execution_count": 109,
   "id": "461f2b20",
   "metadata": {},
   "outputs": [
    {
     "name": "stdout",
     "output_type": "stream",
     "text": [
      "Pvalue:\n",
      "vap_enth 0.014617226903008165\n",
      "Pvalue:\n",
      "motion_times_vap 0.032467349419180724\n"
     ]
    }
   ],
   "source": [
    "for col in tr.columns:\n",
    "    ks = kstest(tr[col],te[col])\n",
    "    if ks.pvalue<0.05:\n",
    "        print('Pvalue:')\n",
    "        print(col,ks.pvalue)\n",
    "    if ks.statistic>0.05:\n",
    "        print('K-S:')\n",
    "        print(col,ks.statistic)\n",
    "        \n"
   ]
  },
  {
   "cell_type": "code",
   "execution_count": 19,
   "id": "7a3a00b3",
   "metadata": {},
   "outputs": [],
   "source": [
    "ss = pipe.predict(test_subm)"
   ]
  },
  {
   "cell_type": "code",
   "execution_count": 20,
   "id": "11160ef8",
   "metadata": {},
   "outputs": [],
   "source": [
    "subm.output_gen = ss"
   ]
  },
  {
   "cell_type": "code",
   "execution_count": 21,
   "id": "a77d5599",
   "metadata": {},
   "outputs": [
    {
     "ename": "NameError",
     "evalue": "name 'kk' is not defined",
     "output_type": "error",
     "traceback": [
      "\u001b[0;31m---------------------------------------------------------------------------\u001b[0m",
      "\u001b[0;31mNameError\u001b[0m                                 Traceback (most recent call last)",
      "\u001b[0;32m<ipython-input-21-4d8db305b713>\u001b[0m in \u001b[0;36m<module>\u001b[0;34m\u001b[0m\n\u001b[0;32m----> 1\u001b[0;31m \u001b[0mkk\u001b[0m\u001b[0;34m\u001b[0m\u001b[0;34m\u001b[0m\u001b[0m\n\u001b[0m",
      "\u001b[0;31mNameError\u001b[0m: name 'kk' is not defined"
     ]
    }
   ],
   "source": [
    "kk"
   ]
  },
  {
   "cell_type": "code",
   "execution_count": 22,
   "id": "84f1cd04",
   "metadata": {},
   "outputs": [],
   "source": [
    "subm.to_csv('subm/third.csv',index=False)"
   ]
  },
  {
   "cell_type": "code",
   "execution_count": null,
   "id": "e374aa78",
   "metadata": {},
   "outputs": [],
   "source": []
  }
 ],
 "metadata": {
  "kernelspec": {
   "display_name": "kaggle",
   "language": "python",
   "name": "kaggle"
  },
  "language_info": {
   "codemirror_mode": {
    "name": "ipython",
    "version": 3
   },
   "file_extension": ".py",
   "mimetype": "text/x-python",
   "name": "python",
   "nbconvert_exporter": "python",
   "pygments_lexer": "ipython3",
   "version": "3.8.5"
  }
 },
 "nbformat": 4,
 "nbformat_minor": 5
}
