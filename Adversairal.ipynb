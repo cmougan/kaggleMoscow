{
 "cells": [
  {
   "cell_type": "code",
   "execution_count": 1,
   "id": "cecde69b",
   "metadata": {},
   "outputs": [],
   "source": [
    "%config Completer.use_jedi = False"
   ]
  },
  {
   "cell_type": "code",
   "execution_count": 27,
   "id": "925f624d",
   "metadata": {},
   "outputs": [],
   "source": [
    "import pandas as pd\n",
    "from sklearn.pipeline import Pipeline\n",
    "from category_encoders.target_encoder import TargetEncoder\n",
    "from catboost import CatBoostClassifier\n",
    "from sklearn.linear_model import Lasso\n",
    "from sklearn.model_selection import train_test_split\n",
    "from sklearn.metrics import roc_auc_score\n"
   ]
  },
  {
   "cell_type": "code",
   "execution_count": 8,
   "id": "f51e3d00",
   "metadata": {},
   "outputs": [],
   "source": [
    "data = pd.read_csv('data/train.csv')\n",
    "test = pd.read_csv('data/test.csv')\n",
    "subm = pd.read_csv('data/sample_submission.csv')"
   ]
  },
  {
   "cell_type": "code",
   "execution_count": 9,
   "id": "b72c64eb",
   "metadata": {},
   "outputs": [],
   "source": [
    "data.output_gen =0\n",
    "test['output_gen'] = 1"
   ]
  },
  {
   "cell_type": "code",
   "execution_count": 10,
   "id": "2c5ef7aa",
   "metadata": {},
   "outputs": [],
   "source": [
    "df = data.append(test)"
   ]
  },
  {
   "cell_type": "code",
   "execution_count": 11,
   "id": "f06da8d1",
   "metadata": {},
   "outputs": [],
   "source": [
    "df = df.drop(columns=['id'])"
   ]
  },
  {
   "cell_type": "code",
   "execution_count": 13,
   "id": "0b2ddab0",
   "metadata": {},
   "outputs": [],
   "source": [
    "X = df.drop(columns ='output_gen')\n",
    "y = df['output_gen']"
   ]
  },
  {
   "cell_type": "code",
   "execution_count": 15,
   "id": "6035af46",
   "metadata": {},
   "outputs": [],
   "source": [
    "enc = TargetEncoder()\n",
    "X = enc.fit_transform(X,y)"
   ]
  },
  {
   "cell_type": "code",
   "execution_count": 22,
   "id": "dba75dfe",
   "metadata": {},
   "outputs": [],
   "source": [
    "X_tr, X_te, y_tr, y_te = train_test_split(X,y)"
   ]
  },
  {
   "cell_type": "code",
   "execution_count": 26,
   "id": "79a6dfe1",
   "metadata": {},
   "outputs": [
    {
     "data": {
      "text/plain": [
       "<catboost.core.CatBoostClassifier at 0x7f90badc6d30>"
      ]
     },
     "execution_count": 26,
     "metadata": {},
     "output_type": "execute_result"
    }
   ],
   "source": [
    "cb = CatBoostClassifier(verbose=0,iterations=200)\n",
    "cb.fit(X_tr,y_tr)"
   ]
  },
  {
   "cell_type": "code",
   "execution_count": 29,
   "id": "9924b248",
   "metadata": {},
   "outputs": [
    {
     "data": {
      "text/plain": [
       "0.49873999405957503"
      ]
     },
     "execution_count": 29,
     "metadata": {},
     "output_type": "execute_result"
    }
   ],
   "source": [
    "roc_auc_score(y_te,cb.predict(X_te))"
   ]
  },
  {
   "cell_type": "code",
   "execution_count": null,
   "id": "edce3733",
   "metadata": {},
   "outputs": [],
   "source": []
  }
 ],
 "metadata": {
  "kernelspec": {
   "display_name": "kaggle",
   "language": "python",
   "name": "kaggle"
  },
  "language_info": {
   "codemirror_mode": {
    "name": "ipython",
    "version": 3
   },
   "file_extension": ".py",
   "mimetype": "text/x-python",
   "name": "python",
   "nbconvert_exporter": "python",
   "pygments_lexer": "ipython3",
   "version": "3.8.5"
  }
 },
 "nbformat": 4,
 "nbformat_minor": 5
}
