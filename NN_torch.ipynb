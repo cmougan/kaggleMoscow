{
 "cells": [
  {
   "cell_type": "code",
   "execution_count": 1,
   "id": "cecde69b",
   "metadata": {},
   "outputs": [],
   "source": [
    "%config Completer.use_jedi = False"
   ]
  },
  {
   "cell_type": "code",
   "execution_count": 2,
   "id": "925f624d",
   "metadata": {},
   "outputs": [],
   "source": [
    "import pandas as pd\n",
    "import numpy as np\n",
    "from sklearn.pipeline import Pipeline\n",
    "from category_encoders.target_encoder import TargetEncoder\n",
    "from catboost import CatBoostRegressor\n",
    "from sklearn.linear_model import Lasso\n",
    "from sklearn.model_selection import train_test_split\n",
    "from sklearn.metrics import mean_squared_error\n",
    "import random\n",
    "random.seed(0)\n",
    "\n",
    "from sklearn.impute import SimpleImputer\n",
    "import shap\n",
    "import matplotlib.pyplot as plt\n",
    "%matplotlib inline\n",
    "from matplotlib import rcParams\n",
    "\n",
    "plt.style.use(\"seaborn-whitegrid\")\n",
    "rcParams[\"axes.labelsize\"] = 14\n",
    "rcParams[\"xtick.labelsize\"] = 12\n",
    "rcParams[\"ytick.labelsize\"] = 12\n",
    "rcParams[\"figure.figsize\"] = 16, 8\n",
    "import seaborn as sns\n",
    "from scipy.stats import kstest"
   ]
  },
  {
   "cell_type": "code",
   "execution_count": 3,
   "id": "f10b98e6",
   "metadata": {},
   "outputs": [],
   "source": [
    "import torch\n",
    "import torch.nn as nn\n",
    "import torch.optim as optim\n",
    "from torch.utils.data import Dataset, DataLoader, random_split\n",
    "\n",
    "\n",
    "from pytorch_tabnet.tab_model import TabNetRegressor"
   ]
  },
  {
   "cell_type": "code",
   "execution_count": 4,
   "id": "90133fc2",
   "metadata": {},
   "outputs": [],
   "source": [
    "from NN_files.gauss_rank_scaler import GaussRankScaler\n",
    "from NN_files.nnet import ReadDataset,ResNet,Net"
   ]
  },
  {
   "cell_type": "raw",
   "id": "676bbedd",
   "metadata": {},
   "source": [
    "from pandas_profiling import ProfileReport\n",
    "profile = ProfileReport(data, title=\"Pandas Profiling Report\")\n",
    "profile.to_notebook_iframe()"
   ]
  },
  {
   "cell_type": "code",
   "execution_count": 5,
   "id": "1f710ce2",
   "metadata": {},
   "outputs": [],
   "source": [
    "def explain(pipe,X):\n",
    "\n",
    "    explainer = shap.Explainer(pipe.named_steps['model'])\n",
    "    xx = pd.DataFrame(pipe[:-1].transform(X),columns=X.columns)\n",
    "    shap_values = explainer(xx)\n",
    "\n",
    "    shap.plots.bar(shap_values)\n",
    "    shap.plots.beeswarm(shap_values)"
   ]
  },
  {
   "cell_type": "code",
   "execution_count": 6,
   "id": "f51e3d00",
   "metadata": {},
   "outputs": [],
   "source": [
    "data = pd.read_csv('data/train.csv')\n",
    "test = pd.read_csv('data/test.csv')\n",
    "subm = pd.read_csv('data/sample_submission.csv')"
   ]
  },
  {
   "cell_type": "code",
   "execution_count": 7,
   "id": "7bb8550a",
   "metadata": {},
   "outputs": [
    {
     "data": {
      "text/plain": [
       "(72000, 14)"
      ]
     },
     "execution_count": 7,
     "metadata": {},
     "output_type": "execute_result"
    }
   ],
   "source": [
    "data.shape"
   ]
  },
  {
   "cell_type": "code",
   "execution_count": 8,
   "id": "2a8db342",
   "metadata": {},
   "outputs": [],
   "source": [
    "data['train']=1\n",
    "test['train']=0"
   ]
  },
  {
   "cell_type": "code",
   "execution_count": 9,
   "id": "8bf21c43",
   "metadata": {},
   "outputs": [],
   "source": [
    "df = data.append(test)"
   ]
  },
  {
   "cell_type": "code",
   "execution_count": 10,
   "id": "5ccf1115",
   "metadata": {},
   "outputs": [],
   "source": [
    "df = df.drop(columns='id')"
   ]
  },
  {
   "cell_type": "code",
   "execution_count": 11,
   "id": "86090c42",
   "metadata": {},
   "outputs": [],
   "source": [
    "df = pd.get_dummies(df,columns=['obs_day'])"
   ]
  },
  {
   "cell_type": "code",
   "execution_count": 12,
   "id": "59c39d1c",
   "metadata": {},
   "outputs": [],
   "source": [
    "# Not working\n",
    "df['vaps_pres_temp'] = df['vap_pressure']/df['vap_temp']\n",
    "#data['hour_sin'] = np.sin(2 * np.pi * data['obs_hour']/23.0)\n",
    "#data['hour_cos'] = np.cos(2 * np.pi * data['obs_hour']/23.0)\n",
    "df['vol'] = df['vap_temp']/df['vap_pressure']\n",
    "df['vol_div'] = df['vap_temp']/df['vap_pressure_div']\n",
    "\n",
    "# Inverse\n",
    "df[\"vap_temp_inv\"] = df[\"vap_temp\"] ** -1\n",
    "df[\"vap_pressure\"] = df[\"vap_pressure\"] ** -1\n",
    "df[\"vap_enth\"] = df[\"vap_enth\"] ** -1\n",
    "df[\"vap_pressure_div\"] = df[\"vap_pressure_div\"] ** -1\n",
    "df[\"vap_motion\"] = df[\"vap_motion\"] ** -1\n",
    "df['faucet_hole'] = df['faucet_hole']**-1"
   ]
  },
  {
   "cell_type": "code",
   "execution_count": 13,
   "id": "8e3159c1",
   "metadata": {},
   "outputs": [
    {
     "data": {
      "text/html": [
       "<div>\n",
       "<style scoped>\n",
       "    .dataframe tbody tr th:only-of-type {\n",
       "        vertical-align: middle;\n",
       "    }\n",
       "\n",
       "    .dataframe tbody tr th {\n",
       "        vertical-align: top;\n",
       "    }\n",
       "\n",
       "    .dataframe thead th {\n",
       "        text-align: right;\n",
       "    }\n",
       "</style>\n",
       "<table border=\"1\" class=\"dataframe\">\n",
       "  <thead>\n",
       "    <tr style=\"text-align: right;\">\n",
       "      <th></th>\n",
       "      <th>obs_hour</th>\n",
       "      <th>obs_minute</th>\n",
       "      <th>C_motion</th>\n",
       "      <th>fw_motion</th>\n",
       "      <th>faucet_hole</th>\n",
       "      <th>vap_pressure</th>\n",
       "      <th>vap_enth</th>\n",
       "      <th>vap_pressure_div</th>\n",
       "      <th>vap_motion</th>\n",
       "      <th>fw_enth</th>\n",
       "      <th>vap_temp</th>\n",
       "      <th>output_gen</th>\n",
       "      <th>train</th>\n",
       "      <th>obs_day_Friday</th>\n",
       "      <th>obs_day_Saturday</th>\n",
       "      <th>vaps_pres_temp</th>\n",
       "      <th>vol</th>\n",
       "      <th>vol_div</th>\n",
       "      <th>vap_temp_inv</th>\n",
       "    </tr>\n",
       "  </thead>\n",
       "  <tbody>\n",
       "    <tr>\n",
       "      <th>0</th>\n",
       "      <td>5.0</td>\n",
       "      <td>46.0</td>\n",
       "      <td>361.486145</td>\n",
       "      <td>2542.801078</td>\n",
       "      <td>1.499523</td>\n",
       "      <td>0.041428</td>\n",
       "      <td>0.000359</td>\n",
       "      <td>0.039295</td>\n",
       "      <td>0.000393</td>\n",
       "      <td>1270.066040</td>\n",
       "      <td>603.834106</td>\n",
       "      <td>930.271729</td>\n",
       "      <td>1</td>\n",
       "      <td>0</td>\n",
       "      <td>1</td>\n",
       "      <td>0.039975</td>\n",
       "      <td>25.015661</td>\n",
       "      <td>23.727924</td>\n",
       "      <td>0.001656</td>\n",
       "    </tr>\n",
       "    <tr>\n",
       "      <th>1</th>\n",
       "      <td>18.0</td>\n",
       "      <td>NaN</td>\n",
       "      <td>197.064667</td>\n",
       "      <td>1454.458144</td>\n",
       "      <td>NaN</td>\n",
       "      <td>0.078723</td>\n",
       "      <td>NaN</td>\n",
       "      <td>0.074598</td>\n",
       "      <td>0.000688</td>\n",
       "      <td>1095.314453</td>\n",
       "      <td>500.178772</td>\n",
       "      <td>473.562103</td>\n",
       "      <td>1</td>\n",
       "      <td>0</td>\n",
       "      <td>1</td>\n",
       "      <td>0.025397</td>\n",
       "      <td>39.375486</td>\n",
       "      <td>37.312534</td>\n",
       "      <td>0.001999</td>\n",
       "    </tr>\n",
       "    <tr>\n",
       "      <th>2</th>\n",
       "      <td>3.0</td>\n",
       "      <td>51.0</td>\n",
       "      <td>356.869232</td>\n",
       "      <td>2458.671690</td>\n",
       "      <td>1.473438</td>\n",
       "      <td>NaN</td>\n",
       "      <td>0.000359</td>\n",
       "      <td>NaN</td>\n",
       "      <td>0.000407</td>\n",
       "      <td>1262.656982</td>\n",
       "      <td>603.529663</td>\n",
       "      <td>904.269897</td>\n",
       "      <td>1</td>\n",
       "      <td>0</td>\n",
       "      <td>1</td>\n",
       "      <td>NaN</td>\n",
       "      <td>NaN</td>\n",
       "      <td>NaN</td>\n",
       "      <td>0.001657</td>\n",
       "    </tr>\n",
       "    <tr>\n",
       "      <th>3</th>\n",
       "      <td>13.0</td>\n",
       "      <td>NaN</td>\n",
       "      <td>239.267517</td>\n",
       "      <td>1628.127295</td>\n",
       "      <td>1.472457</td>\n",
       "      <td>0.065028</td>\n",
       "      <td>0.000347</td>\n",
       "      <td>0.061528</td>\n",
       "      <td>0.000615</td>\n",
       "      <td>1148.203857</td>\n",
       "      <td>593.649658</td>\n",
       "      <td>597.799194</td>\n",
       "      <td>1</td>\n",
       "      <td>0</td>\n",
       "      <td>1</td>\n",
       "      <td>0.025904</td>\n",
       "      <td>38.603699</td>\n",
       "      <td>36.526127</td>\n",
       "      <td>0.001684</td>\n",
       "    </tr>\n",
       "    <tr>\n",
       "      <th>4</th>\n",
       "      <td>11.0</td>\n",
       "      <td>13.0</td>\n",
       "      <td>NaN</td>\n",
       "      <td>2621.829401</td>\n",
       "      <td>1.478409</td>\n",
       "      <td>0.040787</td>\n",
       "      <td>0.000359</td>\n",
       "      <td>NaN</td>\n",
       "      <td>0.000381</td>\n",
       "      <td>1280.567383</td>\n",
       "      <td>602.601501</td>\n",
       "      <td>950.284973</td>\n",
       "      <td>1</td>\n",
       "      <td>1</td>\n",
       "      <td>0</td>\n",
       "      <td>0.040686</td>\n",
       "      <td>24.578225</td>\n",
       "      <td>NaN</td>\n",
       "      <td>0.001659</td>\n",
       "    </tr>\n",
       "    <tr>\n",
       "      <th>...</th>\n",
       "      <td>...</td>\n",
       "      <td>...</td>\n",
       "      <td>...</td>\n",
       "      <td>...</td>\n",
       "      <td>...</td>\n",
       "      <td>...</td>\n",
       "      <td>...</td>\n",
       "      <td>...</td>\n",
       "      <td>...</td>\n",
       "      <td>...</td>\n",
       "      <td>...</td>\n",
       "      <td>...</td>\n",
       "      <td>...</td>\n",
       "      <td>...</td>\n",
       "      <td>...</td>\n",
       "      <td>...</td>\n",
       "      <td>...</td>\n",
       "      <td>...</td>\n",
       "      <td>...</td>\n",
       "    </tr>\n",
       "    <tr>\n",
       "      <th>47995</th>\n",
       "      <td>11.0</td>\n",
       "      <td>25.0</td>\n",
       "      <td>236.904633</td>\n",
       "      <td>1741.410339</td>\n",
       "      <td>1.550823</td>\n",
       "      <td>0.057924</td>\n",
       "      <td>0.000341</td>\n",
       "      <td>0.055122</td>\n",
       "      <td>0.000575</td>\n",
       "      <td>1171.553711</td>\n",
       "      <td>598.504211</td>\n",
       "      <td>NaN</td>\n",
       "      <td>0</td>\n",
       "      <td>0</td>\n",
       "      <td>1</td>\n",
       "      <td>0.028845</td>\n",
       "      <td>34.667658</td>\n",
       "      <td>32.990657</td>\n",
       "      <td>0.001671</td>\n",
       "    </tr>\n",
       "    <tr>\n",
       "      <th>47996</th>\n",
       "      <td>13.0</td>\n",
       "      <td>NaN</td>\n",
       "      <td>233.311859</td>\n",
       "      <td>1639.089412</td>\n",
       "      <td>1.499205</td>\n",
       "      <td>0.063478</td>\n",
       "      <td>0.000347</td>\n",
       "      <td>0.060205</td>\n",
       "      <td>0.000609</td>\n",
       "      <td>1150.022949</td>\n",
       "      <td>588.658203</td>\n",
       "      <td>NaN</td>\n",
       "      <td>0</td>\n",
       "      <td>0</td>\n",
       "      <td>1</td>\n",
       "      <td>0.026762</td>\n",
       "      <td>37.366562</td>\n",
       "      <td>35.440129</td>\n",
       "      <td>0.001699</td>\n",
       "    </tr>\n",
       "    <tr>\n",
       "      <th>47997</th>\n",
       "      <td>10.0</td>\n",
       "      <td>17.0</td>\n",
       "      <td>364.628662</td>\n",
       "      <td>2596.038249</td>\n",
       "      <td>1.515033</td>\n",
       "      <td>0.040107</td>\n",
       "      <td>0.000359</td>\n",
       "      <td>0.038082</td>\n",
       "      <td>0.000385</td>\n",
       "      <td>1280.458618</td>\n",
       "      <td>602.522888</td>\n",
       "      <td>NaN</td>\n",
       "      <td>0</td>\n",
       "      <td>1</td>\n",
       "      <td>0</td>\n",
       "      <td>0.041382</td>\n",
       "      <td>24.165330</td>\n",
       "      <td>22.945005</td>\n",
       "      <td>0.001660</td>\n",
       "    </tr>\n",
       "    <tr>\n",
       "      <th>47998</th>\n",
       "      <td>11.0</td>\n",
       "      <td>12.0</td>\n",
       "      <td>370.186768</td>\n",
       "      <td>2623.624449</td>\n",
       "      <td>NaN</td>\n",
       "      <td>0.040676</td>\n",
       "      <td>0.000359</td>\n",
       "      <td>NaN</td>\n",
       "      <td>0.000382</td>\n",
       "      <td>1280.452148</td>\n",
       "      <td>602.867676</td>\n",
       "      <td>NaN</td>\n",
       "      <td>0</td>\n",
       "      <td>1</td>\n",
       "      <td>0</td>\n",
       "      <td>0.040779</td>\n",
       "      <td>24.522346</td>\n",
       "      <td>NaN</td>\n",
       "      <td>0.001659</td>\n",
       "    </tr>\n",
       "    <tr>\n",
       "      <th>47999</th>\n",
       "      <td>6.0</td>\n",
       "      <td>5.0</td>\n",
       "      <td>1478.599120</td>\n",
       "      <td>2532.538680</td>\n",
       "      <td>1.501450</td>\n",
       "      <td>0.010333</td>\n",
       "      <td>0.000363</td>\n",
       "      <td>0.009807</td>\n",
       "      <td>0.000099</td>\n",
       "      <td>5095.750000</td>\n",
       "      <td>600.933838</td>\n",
       "      <td>NaN</td>\n",
       "      <td>0</td>\n",
       "      <td>0</td>\n",
       "      <td>1</td>\n",
       "      <td>0.161045</td>\n",
       "      <td>6.209435</td>\n",
       "      <td>5.893569</td>\n",
       "      <td>0.001664</td>\n",
       "    </tr>\n",
       "  </tbody>\n",
       "</table>\n",
       "<p>120000 rows × 19 columns</p>\n",
       "</div>"
      ],
      "text/plain": [
       "       obs_hour  obs_minute     C_motion    fw_motion  faucet_hole  \\\n",
       "0           5.0        46.0   361.486145  2542.801078     1.499523   \n",
       "1          18.0         NaN   197.064667  1454.458144          NaN   \n",
       "2           3.0        51.0   356.869232  2458.671690     1.473438   \n",
       "3          13.0         NaN   239.267517  1628.127295     1.472457   \n",
       "4          11.0        13.0          NaN  2621.829401     1.478409   \n",
       "...         ...         ...          ...          ...          ...   \n",
       "47995      11.0        25.0   236.904633  1741.410339     1.550823   \n",
       "47996      13.0         NaN   233.311859  1639.089412     1.499205   \n",
       "47997      10.0        17.0   364.628662  2596.038249     1.515033   \n",
       "47998      11.0        12.0   370.186768  2623.624449          NaN   \n",
       "47999       6.0         5.0  1478.599120  2532.538680     1.501450   \n",
       "\n",
       "       vap_pressure  vap_enth  vap_pressure_div  vap_motion      fw_enth  \\\n",
       "0          0.041428  0.000359          0.039295    0.000393  1270.066040   \n",
       "1          0.078723       NaN          0.074598    0.000688  1095.314453   \n",
       "2               NaN  0.000359               NaN    0.000407  1262.656982   \n",
       "3          0.065028  0.000347          0.061528    0.000615  1148.203857   \n",
       "4          0.040787  0.000359               NaN    0.000381  1280.567383   \n",
       "...             ...       ...               ...         ...          ...   \n",
       "47995      0.057924  0.000341          0.055122    0.000575  1171.553711   \n",
       "47996      0.063478  0.000347          0.060205    0.000609  1150.022949   \n",
       "47997      0.040107  0.000359          0.038082    0.000385  1280.458618   \n",
       "47998      0.040676  0.000359               NaN    0.000382  1280.452148   \n",
       "47999      0.010333  0.000363          0.009807    0.000099  5095.750000   \n",
       "\n",
       "         vap_temp  output_gen  train  obs_day_Friday  obs_day_Saturday  \\\n",
       "0      603.834106  930.271729      1               0                 1   \n",
       "1      500.178772  473.562103      1               0                 1   \n",
       "2      603.529663  904.269897      1               0                 1   \n",
       "3      593.649658  597.799194      1               0                 1   \n",
       "4      602.601501  950.284973      1               1                 0   \n",
       "...           ...         ...    ...             ...               ...   \n",
       "47995  598.504211         NaN      0               0                 1   \n",
       "47996  588.658203         NaN      0               0                 1   \n",
       "47997  602.522888         NaN      0               1                 0   \n",
       "47998  602.867676         NaN      0               1                 0   \n",
       "47999  600.933838         NaN      0               0                 1   \n",
       "\n",
       "       vaps_pres_temp        vol    vol_div  vap_temp_inv  \n",
       "0            0.039975  25.015661  23.727924      0.001656  \n",
       "1            0.025397  39.375486  37.312534      0.001999  \n",
       "2                 NaN        NaN        NaN      0.001657  \n",
       "3            0.025904  38.603699  36.526127      0.001684  \n",
       "4            0.040686  24.578225        NaN      0.001659  \n",
       "...               ...        ...        ...           ...  \n",
       "47995        0.028845  34.667658  32.990657      0.001671  \n",
       "47996        0.026762  37.366562  35.440129      0.001699  \n",
       "47997        0.041382  24.165330  22.945005      0.001660  \n",
       "47998        0.040779  24.522346        NaN      0.001659  \n",
       "47999        0.161045   6.209435   5.893569      0.001664  \n",
       "\n",
       "[120000 rows x 19 columns]"
      ]
     },
     "execution_count": 13,
     "metadata": {},
     "output_type": "execute_result"
    }
   ],
   "source": [
    "df"
   ]
  },
  {
   "cell_type": "code",
   "execution_count": 14,
   "id": "29972bb2",
   "metadata": {},
   "outputs": [],
   "source": [
    "# Might work\n",
    "df['vol_pres'] = df['vap_pressure']/df['vap_enth']\n",
    "df['vol_pres_div'] = df['vap_pressure_div']/df['vap_enth']\n",
    "\n",
    "df['motion_times_vap'] = df['fw_motion'] * df['vap_pressure_div']\n",
    "df['motion_by_vap'] = df['fw_motion'] / df['vap_pressure_div']\n",
    "df['motion_by_vap_inv'] = (df['fw_motion'] / df['vap_pressure_div'])**-1\n",
    "\n",
    "df['vap_dif'] = df['vap_pressure'] - df['vap_pressure_div']"
   ]
  },
  {
   "cell_type": "code",
   "execution_count": null,
   "id": "041292a3",
   "metadata": {},
   "outputs": [],
   "source": []
  },
  {
   "cell_type": "markdown",
   "id": "a4e6eea4",
   "metadata": {},
   "source": [
    "# Machine Learning"
   ]
  },
  {
   "cell_type": "code",
   "execution_count": 15,
   "id": "8b02fb00",
   "metadata": {},
   "outputs": [],
   "source": [
    "imp = SimpleImputer(strategy='mean')\n",
    "df = pd.DataFrame(imp.fit_transform(df),columns = df.columns)"
   ]
  },
  {
   "cell_type": "code",
   "execution_count": 16,
   "id": "bd02707e",
   "metadata": {},
   "outputs": [],
   "source": [
    "data = df[df['train']==1]\n",
    "test = df[df['train']==0]"
   ]
  },
  {
   "cell_type": "code",
   "execution_count": 17,
   "id": "37a94878",
   "metadata": {},
   "outputs": [],
   "source": [
    "X = data.drop(columns=[\"train\", \"output_gen\"])\n",
    "y = data[\"output_gen\"]"
   ]
  },
  {
   "cell_type": "code",
   "execution_count": 18,
   "id": "bee19a0d",
   "metadata": {},
   "outputs": [],
   "source": [
    "X = pd.DataFrame(GaussRankScaler().fit_transform(X,y),columns= X.columns)"
   ]
  },
  {
   "cell_type": "code",
   "execution_count": 19,
   "id": "61c596b7",
   "metadata": {},
   "outputs": [],
   "source": [
    "X_tr, X_te, y_tr, y_te = train_test_split(\n",
    "    X,y,random_state=0\n",
    ")"
   ]
  },
  {
   "cell_type": "code",
   "execution_count": 20,
   "id": "bbef45cc",
   "metadata": {},
   "outputs": [],
   "source": [
    "trainset = ReadDataset(X_tr,y_tr.values)\n",
    "testset = ReadDataset(X_te,y_te.values)\n",
    "\n",
    "\n",
    "# Data loaders\n",
    "trainloader = DataLoader(trainset, batch_size=100, shuffle=True)"
   ]
  },
  {
   "cell_type": "code",
   "execution_count": 21,
   "id": "66678012",
   "metadata": {},
   "outputs": [],
   "source": [
    "X_train = torch.tensor(trainset.X.values)\n",
    "y_train = torch.tensor(trainset.y)\n",
    "\n",
    "X_test = torch.tensor(testset.X.values)\n",
    "y_test = torch.tensor(testset.y)"
   ]
  },
  {
   "cell_type": "code",
   "execution_count": 22,
   "id": "6b27b7dc",
   "metadata": {},
   "outputs": [],
   "source": [
    "\n",
    "# Use gpu if available\n",
    "device = torch.device(\"cuda:0\" if torch.cuda.is_available() else \"cpu\")"
   ]
  },
  {
   "cell_type": "code",
   "execution_count": 23,
   "id": "ae96dc72",
   "metadata": {},
   "outputs": [],
   "source": [
    "# Neural Network\n",
    "nnet = ResNet(trainset.__shape__()).to(device)"
   ]
  },
  {
   "cell_type": "code",
   "execution_count": 24,
   "id": "762a3b4e",
   "metadata": {},
   "outputs": [],
   "source": [
    "# Optimizer\n",
    "optimizer = optim.Adam(\n",
    "    nnet.parameters(), lr=0.00001, betas=(0.9, 0.999), eps=1e-08,  # weight_decay=0.0001\n",
    ")"
   ]
  },
  {
   "cell_type": "code",
   "execution_count": 25,
   "id": "72deb276",
   "metadata": {},
   "outputs": [],
   "source": [
    "\n",
    "# Train the net\n",
    "loss_per_iter = []\n",
    "loss_per_batch = []\n",
    "\n",
    "\n",
    "# Train the net\n",
    "losses = []\n",
    "metric_test = []\n",
    "metric_train = []\n",
    "auc_train = []\n",
    "auc_test = []\n",
    "metric_val = []\n",
    "unc_val = []"
   ]
  },
  {
   "cell_type": "code",
   "execution_count": null,
   "id": "86df242a",
   "metadata": {},
   "outputs": [
    {
     "name": "stdout",
     "output_type": "stream",
     "text": [
      "0\n"
     ]
    },
    {
     "data": {
      "image/png": "[encoded data removed]",
      "text/plain": [
       "<Figure size 1152x576 with 1 Axes>"
      ]
     },
     "metadata": {},
     "output_type": "display_data"
    },
    {
     "name": "stdout",
     "output_type": "stream",
     "text": [
      "5\n"
     ]
    },
    {
     "data": {
      "image/png": "[encoded data removed]",
      "text/plain": [
       "<Figure size 1152x576 with 1 Axes>"
      ]
     },
     "metadata": {},
     "output_type": "display_data"
    },
    {
     "name": "stdout",
     "output_type": "stream",
     "text": [
      "10\n"
     ]
    },
    {
     "data": {
      "image/png": "[encoded data removed]",
      "text/plain": [
       "<Figure size 1152x576 with 1 Axes>"
      ]
     },
     "metadata": {},
     "output_type": "display_data"
    },
    {
     "name": "stdout",
     "output_type": "stream",
     "text": [
      "15\n"
     ]
    },
    {
     "data": {
      "image/png": "[encoded data removed]",
      "text/plain": [
       "<Figure size 1152x576 with 1 Axes>"
      ]
     },
     "metadata": {},
     "output_type": "display_data"
    },
    {
     "name": "stdout",
     "output_type": "stream",
     "text": [
      "20\n"
     ]
    },
    {
     "data": {
      "image/png": "[encoded data removed]",
      "text/plain": [
       "<Figure size 1152x576 with 1 Axes>"
      ]
     },
     "metadata": {},
     "output_type": "display_data"
    }
   ],
   "source": [
    "# hyperparameteres\n",
    "n_epochs = 100\n",
    "\n",
    "for epoch in range(n_epochs):\n",
    "\n",
    "    for i, (inputs, labels) in enumerate(trainloader):\n",
    "        X = inputs.to(device)\n",
    "        y = labels.to(device)\n",
    "\n",
    "        # Zero the parameter gradients\n",
    "        optimizer.zero_grad()\n",
    "\n",
    "        # Forwarde\n",
    "        outputs = nnet(X.float())\n",
    "\n",
    "        # Compute diff\n",
    "        criterion = nn.MSELoss()\n",
    "        loss = criterion(outputs, y.float())\n",
    "\n",
    "        # Compute gradient\n",
    "        loss.backward(retain_graph=True)\n",
    "\n",
    "        # update weights\n",
    "        optimizer.step()\n",
    "\n",
    "        # Save loss to plot\n",
    "\n",
    "        losses.append(loss.item())\n",
    "\n",
    "    if epoch % 5 == 0:\n",
    "        print(epoch)\n",
    "        pred = nnet(X_test.float())\n",
    "        metric_test.append(mean_squared_error(pred.detach().numpy(),y_te,squared=True))\n",
    "        \n",
    "        pred = nnet(X_train.float())\n",
    "        metric_train.append(mean_squared_error(pred.detach().numpy(),y_tr,squared=True))\n",
    "\n",
    "        # Figure\n",
    "        plt.figure()\n",
    "        plt.plot(metric_train, label=\"train\")\n",
    "        plt.plot(metric_test, label=\"test\")\n",
    "        plt.legend()\n",
    "        plt.ylim([0,10_000])\n",
    "        plt.show()\n",
    "\n",
    "        #\n",
    "        path = \"output/weights\" + str(epoch) + \".pt\"\n",
    "        torch.save(nnet.state_dict(), path)\n",
    "\n",
    "print(\"Elapsed time: \", np.abs(tic - time.time()))\n",
    "print(\"done\")"
   ]
  },
  {
   "cell_type": "code",
   "execution_count": null,
   "id": "0a0e468d",
   "metadata": {},
   "outputs": [],
   "source": [
    "mean_squared_error()"
   ]
  }
 ],
 "metadata": {
  "kernelspec": {
   "display_name": "kaggle",
   "language": "python",
   "name": "kaggle"
  },
  "language_info": {
   "codemirror_mode": {
    "name": "ipython",
    "version": 3
   },
   "file_extension": ".py",
   "mimetype": "text/x-python",
   "name": "python",
   "nbconvert_exporter": "python",
   "pygments_lexer": "ipython3",
   "version": "3.8.5"
  }
 },
 "nbformat": 4,
 "nbformat_minor": 5
}
